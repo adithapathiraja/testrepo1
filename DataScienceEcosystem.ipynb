{
 "cells": [
  {
   "cell_type": "markdown",
   "metadata": {},
   "source": [
    "<h1><span style=\"color:orange;\">Data Science Tools and Ecosystem</span></h1>\n"
   ]
  },
  {
   "cell_type": "markdown",
   "metadata": {},
   "source": [
    "In this notebook, Data Science Tools and Ecosystem are summarized.\n"
   ]
  },
  {
   "cell_type": "markdown",
   "metadata": {},
   "source": [
    "## Objectives:\n",
    "\n",
    "- List popular languages for Data Science.\n",
    "- List popular Libraries for Data Science.\n",
    "- Demonstrate basic arithmetic operations in Python.\n",
    "- Introduce Jupyter Notebook markdown syntax.\n"
   ]
  },
  {
   "cell_type": "markdown",
   "metadata": {
    "tags": []
   },
   "source": [
    "## Some popular languages for Data Science include:\n",
    "\n",
    "1. <span style=\"color:orange;\">**Python:**</span> Widely used for data analysis, machine learning, and deep learning.\n",
    "2. <span style=\"color:orange;\">**R:**</span> Specifically designed for statistical analysis and data visualization.\n",
    "3. <span style=\"color:orange;\">**SQL:**</span> Essential for querying and manipulating data in relational databases.\n",
    "4. <span style=\"color:orange;\">**Julia:**</span> Known for high-performance numerical and scientific computing.\n",
    "\n",
    "\n",
    "\n"
   ]
  },
  {
   "cell_type": "markdown",
   "metadata": {},
   "source": [
    "## Some commonly used libraries by Data Scientists:\n",
    "\n",
    "1. <span style=\"color:orange;\">**NumPy:**</span> For efficient array and matrix operations in Python.\n",
    "2. <span style=\"color:orange;\">**Pandas:**</span> Powerful data manipulation and analysis tools.\n",
    "3. <span style=\"color:orange;\">**Scikit-learn:**</span> Simple and efficient machine learning algorithms.\n",
    "4. <span style=\"color:orange;\">**Matplotlib:**</span> 2D plotting library for visualizations.\n",
    "5. <span style=\"color:orange;\">**TensorFlow:**</span> Open-source framework for deep learning.\n",
    "6. <span style=\"color:orange;\">**PyTorch:**</span> Dynamic computation graph for deep learning.\n",
    "\n"
   ]
  },
  {
   "cell_type": "code",
   "execution_count": null,
   "metadata": {},
   "outputs": [],
   "source": []
  },
  {
   "cell_type": "code",
   "execution_count": 6,
   "metadata": {
    "jupyter": {
     "source_hidden": true
    },
    "tags": []
   },
   "outputs": [
    {
     "data": {
      "text/html": [
       "<style>\n",
       "table {float:left}\n",
       "</style>\n"
      ],
      "text/plain": [
       "<IPython.core.display.HTML object>"
      ]
     },
     "metadata": {},
     "output_type": "display_data"
    }
   ],
   "source": [
    "%%html\n",
    "<style>\n",
    "table {float:left}\n",
    "</style>"
   ]
  },
  {
   "cell_type": "markdown",
   "metadata": {
    "tags": []
   },
   "source": [
    "<div style=\"text-align: left; border-collapse: collapse;\">\n",
    "\n",
    "| <span style=\"background-color: #FFA500; color: black; padding: 5px; display: block;\">Data Science Tools</span> |\n",
    "|---------------------|\n",
    "| Jupyter Notebooks   |\n",
    "| R Studio            |\n",
    "| VS Code             |\n",
    "\n",
    "</div>\n"
   ]
  },
  {
   "cell_type": "markdown",
   "metadata": {
    "tags": []
   },
   "source": [
    "<div class=\"row\">\n",
    "    <div class=\"col-md-4 col-sm-6 col-xs-8\">\n",
    "        <h3 data-i18n-key=\"Date.time.location\">Below are a few examples of evaluating arithmetic expressions in Python.\n",
    "</h3>\n",
    "    </div>\n",
    "    <div class=\"col-md-8 col-sm-6 col-xs-4\">\n",
    "        <hr>\n",
    "    </div>\n",
    "</div>\n",
    "\n",
    "Addition = a + b<br>\n",
    "Subtraction = a - b<br>\n",
    "Multiplication = a * b<br>\n",
    "Division= a / b<br>\n",
    "\n"
   ]
  },
  {
   "cell_type": "code",
   "execution_count": 10,
   "metadata": {
    "tags": []
   },
   "outputs": [
    {
     "name": "stdout",
     "output_type": "stream",
     "text": [
      "17\n"
     ]
    }
   ],
   "source": [
    "# This is a simple arithmetic expression to multiply then add integers.\n",
    "result = (3 * 4) + 5\n",
    "print(result)"
   ]
  },
  {
   "cell_type": "code",
   "execution_count": 11,
   "metadata": {
    "tags": []
   },
   "outputs": [
    {
     "name": "stdout",
     "output_type": "stream",
     "text": [
      "3.3333333333333335\n"
     ]
    }
   ],
   "source": [
    "# This will convert 200 minutes to hours by dividing by 60.\n",
    "minutes = 200\n",
    "hours = minutes / 60\n",
    "print(hours)\n"
   ]
  },
  {
   "cell_type": "markdown",
   "metadata": {},
   "source": [
    "## Author\n",
    "\n",
    "Aditha Pathiraja\n"
   ]
  }
 ],
 "metadata": {
  "kernelspec": {
   "display_name": "Python",
   "language": "python",
   "name": "conda-env-python-py"
  },
  "language_info": {
   "codemirror_mode": {
    "name": "ipython",
    "version": 3
   },
   "file_extension": ".py",
   "mimetype": "text/x-python",
   "name": "python",
   "nbconvert_exporter": "python",
   "pygments_lexer": "ipython3",
   "version": "3.7.12"
  }
 },
 "nbformat": 4,
 "nbformat_minor": 4
}
